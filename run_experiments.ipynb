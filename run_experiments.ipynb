{
 "cells": [
  {
   "cell_type": "markdown",
   "source": [
    "```\n",
    "Author : Javier Chiyah-Garcia\n",
    "GitHub : https://github.com/JChiyah/what-are-you-referring-to\n",
    "Date   : August 2023\n",
    "Python : 3.7+\n",
    "```\n",
    "\n",
    "Notebook with experiments for the paper __'What are you referring to?' Evaluating the Ability of Multi-Modal Dialogue Models to Process Clarificational Exchanges__\n",
    "\n",
    "You need to have cloned this repository, as well as the SIMMC2 original repository, as it uses the original dataset from there to find the clarifications. We also provide the analysed model outputs in a separate folder, so you can run the evaluation without having to train the models yourself.\n",
    "\n",
    "Some values may differ than those from the paper, as we have improved the tagging algorithm and fixed some bugs in the code ('All Turns' split was skipping turns that did not have a target). The results are very similar, somewhat lower across all models by a few decimals.\n",
    "\n",
    "Requirements:\n",
    "- Python 3.7 or above\n",
    "- Numpy\n",
    "- Tqdm"
   ],
   "metadata": {
    "collapsed": false
   }
  },
  {
   "cell_type": "code",
   "execution_count": 1,
   "metadata": {
    "collapsed": true
   },
   "outputs": [
    {
     "name": "stdout",
     "output_type": "stream",
     "text": [
      "68 Clarification Exchange Tagging tests passed!\n"
     ]
    }
   ],
   "source": [
    "import os\n",
    "import sys\n",
    "import json\n",
    "import glob\n",
    "\n",
    "from tqdm import tqdm\n",
    "\n",
    "# we assume that the simmc2 data is just outside the current folder (sibling dir)\n",
    "sys.path.append('../')\n",
    "# imported here to make sure it works, but used in evaluation.py\n",
    "from simmc2.model.mm_dst.utils.evaluate_dst import evaluate_from_flat_list\n",
    "SIMMC2_FOLDER = '../simmc2/data'\n",
    "\n",
    "from src import *\n",
    "from src import evaluation\n",
    "\n",
    "DATA_FOLDER = 'data'"
   ]
  },
  {
   "cell_type": "code",
   "execution_count": 2,
   "outputs": [
    {
     "name": "stderr",
     "output_type": "stream",
     "text": [
      "Reading Metadata: 100%|██████████| 2/2 [00:00<00:00, 1538.07it/s]\n",
      "  JSON scenes: 100%|██████████| 2743/2743 [00:00<00:00, 5560.45it/s]\n"
     ]
    }
   ],
   "source": [
    "# read original SIMMC 2.0 data\n",
    "simmc2_metadata = {}\n",
    "for domain in tqdm(['fashion', 'furniture'], desc='Reading Metadata'):\n",
    "\twith open(os.path.join(SIMMC2_FOLDER, f\"{domain}_prefab_metadata_all.json\"), 'r') as f_in:\n",
    "\t\tsimmc2_metadata = {**simmc2_metadata, **json.load(f_in)}\n",
    "\n",
    "simmc2_scenes_jsons ={}\n",
    "_files = glob.glob(f\"{SIMMC2_FOLDER}/simmc2_scene_jsons_dstc10_public/*.json\")\n",
    "for file in tqdm(_files, desc='  JSON scenes'):\n",
    "\twith open(file, \"r\") as f_in:\n",
    "\t\tsimmc2_scenes_jsons[os.path.splitext(os.path.basename(file))[0]] = json.load(f_in)\n",
    "\n",
    "with open(os.path.join(SIMMC2_FOLDER, 'simmc2_dials_dstc10_devtest.json'), 'r') as f_in:\n",
    "\tsimmc2_dataset = json.load(f_in)"
   ],
   "metadata": {
    "collapsed": false
   }
  },
  {
   "cell_type": "code",
   "execution_count": 3,
   "outputs": [
    {
     "name": "stdout",
     "output_type": "stream",
     "text": [
      "dict_keys(['1-Baseline_GPT2', '2-GroundedLan_GPT2', '3-VisLan_LXMERT', '4-MultiTask_BART', 'Baseline_GPT2_noMM', 'Team9'])\n",
      "Loaded outputs: ['1-Baseline_GPT2', '2-GroundedLan_GPT2', '3-VisLan_LXMERT', '4-MultiTask_BART']\n"
     ]
    }
   ],
   "source": [
    "# read model output files\n",
    "model_outputs = {}\n",
    "\n",
    "for subdir, dirs, files in os.walk(DATA_FOLDER):\n",
    "\tif 'coref-pred-devtest-mini.json' in files:\n",
    "\t\twith open(f\"{subdir}/coref-pred-devtest-mini.json\", 'r') as f_in:\n",
    "\t\t\tmodel_name = subdir.split('/')[-1]\n",
    "\t\t\tmodel_outputs[model_name] = json.load(f_in)\n",
    "\t\t\t# make sure that the dialogues have at most 1 turn (it's a specific format from SIMMC2 challenge)\n",
    "\t\t\tfor dialogue in model_outputs[model_name]['dialogue_data'][:3]:\n",
    "\t\t\t\tif len(dialogue['dialogue']) > 1:\n",
    "\t\t\t\t\t# we need to fix this dataset!\n",
    "\t\t\t\t\tmodel_outputs[model_name] = fix_prediction_data_format(model_outputs[model_name])\n",
    "\t\t\t\t\tbreak\n",
    "\n",
    "# sort dictionary by key\n",
    "model_outputs = dict(sorted(model_outputs.items(), key=lambda item: item[0]))\n",
    "\n",
    "# This is another variant of the Baseline GPT-2 from the challenge without the MultiModal help\n",
    "del model_outputs['Baseline_GPT2_noMM']\t\t# ignore for now\n",
    "# We process the output of this model, but Team9 skipped predictions for ambiguous (Before-CR) turns and\n",
    "# that needs to be changed in their original code. We left here for comparing All and After-CR turns\n",
    "del model_outputs['Team9']\n",
    "\n",
    "all_models = list(model_outputs.keys())\n",
    "print(f\"Loaded outputs: {all_models}\")"
   ],
   "metadata": {
    "collapsed": false
   }
  },
  {
   "cell_type": "code",
   "execution_count": 4,
   "outputs": [
    {
     "name": "stdout",
     "output_type": "stream",
     "text": [
      "Preprocessing dataset and printing example Clarification Exchanges (CEs)\n",
      "  Clarification Exchange\n",
      "\tUSR: Does the grey have good reviews? | ['individual_property']\n",
      "\tSYS: Which one do you mean? | []\n",
      "\tUSR: The grey one on the hanging rack. | ['individual_property', 'relational_context']\n",
      "\tSYS: That dress has a high rating at 4.3.\n",
      "\tTags=['individual_property', 'relational_context']\n",
      "  Clarification Exchange\n",
      "\tUSR: What size is the pair on the left and who makes it? | ['relational_context']\n",
      "\tSYS: Sorry, which one? | []\n",
      "\tUSR: The jeans on the left. | ['individual_property', 'relational_context']\n",
      "\tSYS: It's a size L,  from Cats Are Great.\n",
      "\tTags=['individual_property', 'relational_context']\n",
      "  Clarification Exchange\n",
      "\tUSR: Can you tell me who makes it and how much it costs? | []\n",
      "\tSYS: Which ones? | []\n",
      "\tUSR: The grey pair of jeans. | ['individual_property']\n",
      "\tSYS: This pair is made by Cats Are Great and costs $164.99.\n",
      "\tTags=['individual_property']\n",
      "  Clarification Exchange\n",
      "\tUSR: What's the prive of the item? | []\n",
      "\tSYS: Which item do you mean? | []\n",
      "\tUSR: I meant the grey dress on the back floor rack. | ['individual_property', 'relational_context']\n",
      "\tSYS: It is priced at 124.99.\n",
      "\tTags=['individual_property', 'relational_context']\n",
      "  Clarification Exchange\n",
      "\tUSR: Yeah I'm having a hard time picking up on any differences between them. What sizes do those come in? And can you get a read on the customer ratings? | ['dialogue_history', 'individual_property']\n",
      "\tSYS: Which items are you interested in learning more about? | []\n",
      "\tUSR: Those first two tops on the far left. | ['relational_context']\n",
      "\tSYS: Both of those tops are offered in small, large, extra large, and extra extra large, and they both carry a customer rating of 3.8.\n",
      "\tTags=['dialogue_history', 'individual_property', 'relational_context']\n",
      "  Clarification Exchange\n",
      "\tUSR: What's the rating of the green hoodie, and what sizes does it come in? | ['individual_property']\n",
      "\tSYS: Which hoodie? | ['individual_property']\n",
      "\tUSR: The green one on the top right. | ['individual_property', 'relational_context']\n",
      "\tSYS: It has a 2.8 rating and is available in S, M, and L.\n",
      "\tTags=['individual_property', 'relational_context']\n",
      "  Clarification Exchange\n",
      "\tUSR: What size is that sweater anyways? | ['individual_property']\n",
      "\tSYS: The black one? | ['individual_property']\n",
      "\tUSR: Yes exactly. | ['dialogue_history']\n",
      "\tSYS: It's a size XL.\n",
      "\tTags=['dialogue_history', 'individual_property']\n",
      "  Clarification Exchange\n",
      "\tUSR: What's the brand and size range for that grey dress? | ['individual_property']\n",
      "\tSYS: Which dress are you referring to? | ['individual_property']\n",
      "\tUSR: I mean the grey dress on the display rack. | ['individual_property', 'relational_context']\n",
      "\tSYS: It's from Yogi Fit and is available in XS, XL, S, XXL, L, and M.\n",
      "\tTags=['individual_property', 'relational_context']\n",
      "  Clarification Exchange\n",
      "\tUSR: Can you get me the available sizes and ratings of the maroon, white, and blue blouse and the light grey one? | ['individual_property']\n",
      "\tSYS: Which blouses do you mean? | ['individual_property']\n",
      "\tUSR: The maroon, white, and blue blouse and the light grey, both in the center shelf. | ['dialogue_history', 'individual_property', 'relational_context']\n",
      "\tSYS: The former has a 3.8 rating and is available in XXL, S, XL, and L. The latter has a 2.9 rating and is only available in M.\n",
      "\tTags=['dialogue_history', 'individual_property', 'relational_context']\n",
      "  Clarification Exchange\n",
      "\tUSR: What's the brand of the brown jacket? | ['individual_property']\n",
      "\tSYS: Which jacket are you referring to? | ['individual_property']\n",
      "\tUSR: The brown jacket in the second shelf from the right. | ['individual_property', 'relational_context']\n",
      "\tSYS: It's from Global Voyager.\n",
      "\tTags=['individual_property', 'relational_context']\n"
     ]
    }
   ],
   "source": [
    "# do some pre-processing on the original simmc2 data\n",
    "last_ambiguous_turn = None\n",
    "\n",
    "# we can iterate the original data easily, but the model output data is formatted\n",
    "# in a slightly different way, so we need the t_index to access the turn\n",
    "print('Preprocessing dataset and printing example Clarification Exchanges (CEs)')\n",
    "for t_index, simmc2_datum in enumerate(iterate_over_dataset_entries(simmc2_dataset)):\n",
    "\tsimmc2_dialogue, simmc2_turn = simmc2_datum\n",
    "\tsimmc2_turn['model_outputs'] = {}\n",
    "\tsimmc2_turn['scene_idx'], simmc2_turn['previous_scene_idx'] = get_scene_idx(\n",
    "\t\tsimmc2_dialogue['scene_ids'], simmc2_turn['turn_idx'])\n",
    "\n",
    "\tfor model_name, model_output in model_outputs.items():\n",
    "\t\tpred_dialogue = model_output['dialogue_data'][t_index]\n",
    "\t\tpred_turn = pred_dialogue['dialogue'][0]\t# in model outputs, there is at most 1 turn per dialogue\n",
    "\n",
    "\t\t# check that we are in the same dialogue and turn in all the model outputs\n",
    "\t\tassert simmc2_dialogue['dialogue_idx'] == pred_dialogue['dialogue_idx'] \\\n",
    "\t\t\tand simmc2_turn['turn_idx'] == pred_turn['turn_idx'], \\\n",
    "\t\t\tf\"Model output {model_name} does not match the original SIMMC2 data: \" \\\n",
    "\t\t\tf\"Dialogue {simmc2_dialogue['dialogue_idx']} Turn {simmc2_turn['turn_idx']} \" \\\n",
    "\t\t\tf\"Dialogue {pred_dialogue['dialogue_idx']} Turn {pred_turn['turn_idx']}\"\n",
    "\n",
    "\t\t# add the model output to the turn as 'synced' or joint data\n",
    "\t\tsimmc2_turn['model_outputs'][model_name] = pred_turn\n",
    "\n",
    "\t# check for Clarification Exchanges\n",
    "\tif ce.is_ambiguous_turn(simmc2_turn):\n",
    "\t\tlast_ambiguous_turn = simmc2_dialogue, simmc2_turn\n",
    "\telif last_ambiguous_turn is not None:\n",
    "\t\t# this is the turn after the CR, make sure they are the same dialogue\n",
    "\t\tif last_ambiguous_turn[0]['dialogue_idx'] == simmc2_dialogue['dialogue_idx']:\n",
    "\t\t\tce.mark_clarification_exchange(\n",
    "\t\t\t\tambiguous_turn=last_ambiguous_turn[1], response_turn=simmc2_turn)\n",
    "\t\tlast_ambiguous_turn = None\n",
    "\n",
    "\t# last_ambiguous_turn = None\t# reset for new dialogues, probs redundant"
   ],
   "metadata": {
    "collapsed": false
   }
  },
  {
   "cell_type": "code",
   "execution_count": 5,
   "outputs": [],
   "source": [
    "# Define dataset splits as filters through the original SIMMC2 data\n",
    "all_splits = [\n",
    "\t('All Turns', None),\n",
    "\t# ('Unambiguous Turns (All - CR Turns)', lambda x: not ce.is_ce_turn(x)),\n",
    "\t('CR Turns', lambda x: ce.is_ce_turn(x)),\n",
    "\t('Individual Property', lambda x: ce.is_tag_in_ce(x, tagging.TAG_INDIVIDUAL_PROPERTY)),\n",
    "\t('Dialogue History', lambda x: ce.is_tag_in_ce(x, tagging.TAG_DIALOGUE_HISTORY)),\n",
    "\t('Relational Context', lambda x: ce.is_tag_in_ce(x, tagging.TAG_RELATIONAL_CONTEXT)),\n",
    "]"
   ],
   "metadata": {
    "collapsed": false
   }
  },
  {
   "cell_type": "code",
   "execution_count": 6,
   "outputs": [
    {
     "name": "stdout",
     "output_type": "stream",
     "text": [
      "Evaluation Results Table (Latex)\n",
      "========================\n",
      "\n",
      "Model                & \\multicolumn{3}{c}{1-Baseline_GPT2}}         & \\multicolumn{3}{c}{2-GroundedLan_GPT2}}      & \\multicolumn{3}{c}{3-VisLan_LXMERT}}         & \\multicolumn{3}{c}{4-MultiTask_BART}}        \\\\\n",
      "Split                & Before-CR      & After-CR       & $\\Delta$   & Before-CR      & After-CR       & $\\Delta$   & Before-CR      & After-CR       & $\\Delta$   & Before-CR      & After-CR       & $\\Delta$   \\\\\n",
      "All Turns            & \\multicolumn{2}{c}{34.1 (.01)}  &            & \\multicolumn{2}{c}{67.6 (.01)}  &            & \\multicolumn{2}{c}{68.3 (.01)}  &            & \\multicolumn{2}{c}{73.8 (.01)}  &            \\\\\n",
      "CR Turns             & 36.4 (.01)     & 29.1 (.01)     & -20.1      & 64.8 (.01)     & 67.7 (.01)     & +4.4       & 65.7 (.01)     & 69.2 (.01)     & +5.4       & 66.9 (.01)     & 74.3 (.01)     & +11.1      \\\\\n",
      "Individual Property  & 35.6 (.01)     & 28.1 (.01)     & -21.0      & 64.4 (.01)     & 67.6 (.01)     & +4.9       & 65.2 (.01)     & 69.0 (.01)     & +5.9       & 67.1 (.01)     & 74.6 (.01)     & +11.3      \\\\\n",
      "Dialogue History     & 42.7 (.03)     & 35.9 (.03)     & -15.9      & 74.5 (.03)     & 74.0 (.03)     & -0.6       & 73.3 (.03)     & 76.7 (.02)     & +4.7       & 64.6 (.03)     & 71.9 (.03)     & +11.4      \\\\\n",
      "Relational Context   & 31.8 (.01)     & 25.1 (.01)     & -21.0      & 62.2 (.02)     & 63.9 (.02)     & +2.7       & 62.8 (.02)     & 64.8 (.02)     & +3.1       & 65.7 (.02)     & 71.8 (.02)     & +9.4       \\\\\n"
     ]
    }
   ],
   "source": [
    "# Create the Evaluation Table 2 from the paper by analysing the data and printing to a LaTex format\n",
    "print(f\"Evaluation Results Table (Latex)\\n{'=' * 24}\\n\")\n",
    "\n",
    "def format_row_as_latex(_analysis):\n",
    "\tfinal_str = []\n",
    "\tfor _model_name in all_models:\n",
    "\t\tif 'Before-CR' in _analysis:\n",
    "\t\t\tfinal_str += [\n",
    "\t\t\t\tf\"{format_f1(_analysis['Before-CR'][_model_name]):<14}\",\n",
    "\t\t\t\tf\"{format_f1(_analysis['After-CR'][_model_name]):<14}\",\n",
    "\t\t\t\tf\"{format_delta(_analysis['Before-CR'][_model_name], _analysis['After-CR'][_model_name]):<10}\"]\n",
    "\t\telse:\n",
    "\t\t\tfinal_str += [f\"\\multicolumn{{2}}{{c}}{{{format_f1(_analysis[_model_name])}}} \", ' '*10]\n",
    "\n",
    "\treturn ' & '.join(final_str) + ' \\\\\\\\'\n",
    "\n",
    "analysis = {}\n",
    "for split_name, filter_func in all_splits:\n",
    "\tif split_name == 'All Turns':\n",
    "\t\t# first time! print headers\n",
    "\t\theaders = [\"\\multicolumn{3}{c}{\" + x + \"}}\" for x in all_models]\n",
    "\t\tsubheaders = ['Before-CR     ', 'After-CR      ', '$\\\\Delta$  '] * len(all_models)\n",
    "\t\tprint(' & '.join(['Model' + ' '*15] + [f\"{h:<44}\" for h in headers]) + ' \\\\\\\\')\n",
    "\t\tprint(f\"{' & '.join(['Split' + ' '*15] + subheaders)} \\\\\\\\\")\n",
    "\n",
    "\t# use the filter func to create a split of the data, then check the results of each model\n",
    "\tanalysis[split_name] = evaluation.evaluate_dataset(simmc2_dataset, filter_func)\n",
    "\tprint(f\"{split_name:<20} & {format_row_as_latex(analysis[split_name])}\")"
   ],
   "metadata": {
    "collapsed": false
   }
  },
  {
   "cell_type": "code",
   "execution_count": 7,
   "outputs": [
    {
     "name": "stdout",
     "output_type": "stream",
     "text": [
      "Candidate Objects Table (Latex)\n",
      "=======================\n",
      "\n",
      "Split                & Mean Candidate Objects Type (SD)   & Mean Candidate Objects Colour (SD) & Entries \\\\\n",
      "All Turns            & 3.13 (5.18)                        & 2.61 (4.27)                        & 8609 \\\\\n",
      "CR Turns             & 5.41 (5.62)                        & 4.53 (4.63)                        & 855 \\\\\n",
      "Individual Property  & 5.49 (5.66)                        & 4.58 (4.68)                        & 825 \\\\\n",
      "Dialogue History     & 5.33 (5.62)                        & 4.71 (4.81)                        & 198 \\\\\n",
      "Relational Context   & 5.81 (5.95)                        & 4.67 (4.72)                        & 685 \\\\\n"
     ]
    }
   ],
   "source": [
    "# Create the Candidate Objects Table from Appendix A.2\n",
    "print(f\"Candidate Objects Table (Latex)\\n{'=' * 23}\\n\")\n",
    "\n",
    "headers = ['Split' + ' '*15, 'Mean Candidate Objects Type (SD)  ', 'Mean Candidate Objects Colour (SD)', 'Entries']\n",
    "\n",
    "for split_name, filter_func in all_splits:\n",
    "\tif split_name == 'All Turns':\n",
    "\t\t# first time! print headers\n",
    "\t\tprint(f\"{' & '.join(headers)} \\\\\\\\\")\n",
    "\n",
    "\tanalysis = evaluation.extract_candidate_objects(simmc2_dataset, simmc2_metadata, simmc2_scenes_jsons, filter_func)\n",
    "\n",
    "\tprint(f\"{split_name:<20} & {format_mean(analysis['type'])}{' '*23} & {format_mean(analysis['color'])}{' '*23} & {analysis['type']['count']} \\\\\\\\\")\n",
    "\t# & {format_mean(analysis['brand'])}{' '*22} - used rarely in clarifications, so skipped from table"
   ],
   "metadata": {
    "collapsed": false
   }
  }
 ],
 "metadata": {
  "kernelspec": {
   "display_name": "Python 3",
   "language": "python",
   "name": "python3"
  },
  "language_info": {
   "codemirror_mode": {
    "name": "ipython",
    "version": 2
   },
   "file_extension": ".py",
   "mimetype": "text/x-python",
   "name": "python",
   "nbconvert_exporter": "python",
   "pygments_lexer": "ipython2",
   "version": "2.7.6"
  }
 },
 "nbformat": 4,
 "nbformat_minor": 0
}
